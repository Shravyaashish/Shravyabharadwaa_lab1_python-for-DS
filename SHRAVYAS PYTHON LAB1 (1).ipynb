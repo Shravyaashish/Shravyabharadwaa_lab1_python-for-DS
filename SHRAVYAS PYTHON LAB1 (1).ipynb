{
 "cells": [
  {
   "cell_type": "markdown",
   "id": "2c8f47d3",
   "metadata": {
    "id": "2c8f47d3"
   },
   "source": [
    "# Lab Session"
   ]
  },
  {
   "cell_type": "markdown",
   "id": "f637aba6",
   "metadata": {
    "id": "f637aba6"
   },
   "source": [
    "## <font color='blue'> Table Of Contents </font>\n",
    "- Problem Statement \n",
    "- Load required libraries\n",
    "- Connect to DB using mysql-connector-python package\n",
    "- Create database named `e_commerce`\n",
    "- Create tables and insert data into tables as specified in the question\n",
    "- Read all the questions and write sql queries to meet the objective "
   ]
  },
  {
   "cell_type": "markdown",
   "id": "1073fc90",
   "metadata": {
    "id": "1073fc90"
   },
   "source": [
    "## <font color='blue'> Problem Statement </font>\n",
    "###  An E-commerce website manages its data in the form of various tables.\n",
    "You need to create a Database called `e_commerce` and various tables in it. The tables needed and attributes which need to be in every table are given before hand. All you have to do is create tables with data in it and answer some of the questions that follows."
   ]
  },
  {
   "cell_type": "markdown",
   "id": "48787355",
   "metadata": {
    "id": "48787355"
   },
   "source": [
    "### e_commerce Schema:"
   ]
  },
  {
   "cell_type": "markdown",
   "id": "78938fbc",
   "metadata": {
    "id": "78938fbc"
   },
   "source": [
    "![e_commerce%20_schema.png](attachment:e_commerce%20_schema.png)"
   ]
  },
  {
   "cell_type": "markdown",
   "id": "d9abe6c7",
   "metadata": {
    "id": "d9abe6c7"
   },
   "source": [
    "### Load Required Libraries"
   ]
  },
  {
   "cell_type": "code",
   "execution_count": 1,
   "id": "117271e1",
   "metadata": {},
   "outputs": [
    {
     "name": "stdout",
     "output_type": "stream",
     "text": [
      "Requirement already satisfied: mysql-connector-python in c:\\anaconda\\anaconda\\lib\\site-packages (8.3.0)\n",
      "Note: you may need to restart the kernel to use updated packages.\n"
     ]
    }
   ],
   "source": [
    "pip install mysql-connector-python"
   ]
  },
  {
   "cell_type": "code",
   "execution_count": 2,
   "id": "7185196d",
   "metadata": {},
   "outputs": [],
   "source": [
    "import mysql.connector\n",
    "import pandas as pd"
   ]
  },
  {
   "cell_type": "markdown",
   "id": "d7d7fd5c",
   "metadata": {
    "id": "d7d7fd5c"
   },
   "source": [
    "### Connect to DB using Mysql-connector-python package"
   ]
  },
  {
   "cell_type": "code",
   "execution_count": 3,
   "id": "ef7bef72",
   "metadata": {
    "id": "ef7bef72"
   },
   "outputs": [
    {
     "data": {
      "text/plain": [
       "<mysql.connector.cursor_cext.CMySQLCursor at 0x20d78660750>"
      ]
     },
     "execution_count": 3,
     "metadata": {},
     "output_type": "execute_result"
    }
   ],
   "source": [
    "## lets makes connection \n",
    "connection = mysql.connector.connect(host =\"localhost\",\n",
    "user =\"root\",\n",
    "passwd =\"(Chavya007@)\"\n",
    "                                    \n",
    ")\n",
    "\n",
    "##creating a cursor object\n",
    "cursorObject=connection.cursor\n",
    "cursorObject()"
   ]
  },
  {
   "cell_type": "markdown",
   "id": "9d55e510",
   "metadata": {
    "id": "9d55e510"
   },
   "source": [
    "### You are required to create a database named 'e_commerce'"
   ]
  },
  {
   "cell_type": "code",
   "execution_count": 4,
   "id": "42a154f2",
   "metadata": {
    "id": "42a154f2"
   },
   "outputs": [],
   "source": [
    "#creating database\n",
    "(\"CREATE DATABASE e-commerce\")\n",
    "\n",
    "cursorObject=connection.cursor()"
   ]
  },
  {
   "cell_type": "code",
   "execution_count": null,
   "id": "481b8f3c",
   "metadata": {},
   "outputs": [],
   "source": [
    "## lets makes connection \n",
    "connection = mysql.connector.connect(host =\"localhost\",\n",
    "user =\"root\",\n",
    "passwd =\"(Chavya007@)\",\n",
    " database=  \"e-commerce\"                                 \n",
    ")\n",
    "\n",
    "##creating a cursor object\n",
    "cursorObject=connection.cursor\n",
    "cursorObject()"
   ]
  },
  {
   "cell_type": "markdown",
   "id": "480dc986",
   "metadata": {
    "id": "480dc986"
   },
   "source": [
    "### Q1. Create tables for supplier, customer, category, product, productDetails, order, rating to store the data for the E-commerce with the schema definition given below.\n",
    "\n",
    "\n",
    "- **`supplier`**(SUPP_ID int primary key, SUPP_NAME varchar(50), SUPP_CITY varchar(50), SUPP_PHONE varchar(10))\n",
    "\n",
    "\n",
    "- **`customer`** (CUS_ID INT NOT NULL, CUS_NAME VARCHAR(20) NULL DEFAULT NULL, CUS_PHONE VARCHAR(10), CUS_CITY varchar(30) ,CUS_GENDER CHAR,PRIMARY KEY (CUS_ID))\n",
    "\n",
    "\n",
    "- **`category`** (CAT_ID INT NOT NULL, CAT_NAME VARCHAR(20) NULL DEFAULT NULL,PRIMARY KEY (CAT_ID))\n",
    "\n",
    "\n",
    "- **`product`** (PRO_ID INT NOT NULL, PRO_NAME VARCHAR(20) NULL DEFAULT NULL, PRO_DESC VARCHAR(60) NULL DEFAULT NULL, CAT_ID INT NOT NULL,PRIMARY KEY (PRO_ID),FOREIGN KEY (CAT_ID) REFERENCES CATEGORY (CAT_ID))\n",
    "\n",
    "\n",
    "- **`product_details`** (PROD_ID INT NOT NULL, PRO_ID INT NOT NULL, SUPP_ID INT NOT NULL, PROD_PRICE INT NOT NULL,\n",
    "  PRIMARY KEY (PROD_ID),FOREIGN KEY (PRO_ID) REFERENCES PRODUCT (PRO_ID), FOREIGN KEY (SUPP_ID) REFERENCES SUPPLIER(SUPP_ID))\n",
    "  \n",
    "  \n",
    "- **`order`** (ORD_ID INT NOT NULL, ORD_AMOUNT INT NOT NULL, ORD_DATE DATE, CUS_ID INT NOT NULL, PROD_ID INT NOT NULL,PRIMARY KEY (ORD_ID),FOREIGN KEY (CUS_ID) REFERENCES CUSTOMER(CUS_ID),FOREIGN KEY (PROD_ID) REFERENCES PRODUCT_DETAILS(PROD_ID))\n",
    "\n",
    "\n",
    "- **`rating`** (RAT_ID INT NOT NULL, CUS_ID INT NOT NULL, SUPP_ID INT NOT NULL, RAT_RATSTARS INT NOT NULL,PRIMARY KEY (RAT_ID),FOREIGN KEY (SUPP_ID) REFERENCES SUPPLIER (SUPP_ID),FOREIGN KEY (CUS_ID) REFERENCES CUSTOMER(CUS_ID))"
   ]
  },
  {
   "cell_type": "code",
   "execution_count": 5,
   "id": "967b718f",
   "metadata": {
    "id": "967b718f"
   },
   "outputs": [
    {
     "ename": "NameError",
     "evalue": "name 'table_creating_query' is not defined",
     "output_type": "error",
     "traceback": [
      "\u001b[1;31m---------------------------------------------------------------------------\u001b[0m",
      "\u001b[1;31mNameError\u001b[0m                                 Traceback (most recent call last)",
      "Cell \u001b[1;32mIn[5], line 27\u001b[0m\n\u001b[0;32m      1\u001b[0m table_Creation_query\u001b[38;5;241m=\u001b[39m\u001b[38;5;124m\"\"\"\u001b[39m\u001b[38;5;124mCREATE TABLE supplier(SUPP_ID int primary key, SUPP_NAME varchar(50), \u001b[39m\n\u001b[0;32m      2\u001b[0m \u001b[38;5;124m                        SUPP_CITY varchar(50), SUPP_PHONE varchar(10));\u001b[39m\n\u001b[0;32m      3\u001b[0m \u001b[38;5;124m                        \u001b[39m\n\u001b[1;32m   (...)\u001b[0m\n\u001b[0;32m     23\u001b[0m \u001b[38;5;124m                             PRIMARY KEY (RAT_ID),FOREIGN KEY (SUPP_ID) REFERENCES SUPPLIER (SUPP_ID),\u001b[39m\n\u001b[0;32m     24\u001b[0m \u001b[38;5;124m                             FOREIGN KEY (CUS_ID) REFERENCES CUSTOMER(CUS_ID));\u001b[39m\u001b[38;5;124m\"\"\"\u001b[39m\n\u001b[0;32m     26\u001b[0m \u001b[38;5;66;03m# executing the query\u001b[39;00m\n\u001b[1;32m---> 27\u001b[0m cursorObject\u001b[38;5;241m.\u001b[39mexecute\u001b[38;5;241m=\u001b[39m(table_creating_query)\n",
      "\u001b[1;31mNameError\u001b[0m: name 'table_creating_query' is not defined"
     ]
    }
   ],
   "source": [
    "table_Creation_query=\"\"\"CREATE TABLE supplier(SUPP_ID int primary key, SUPP_NAME varchar(50), \n",
    "                                 SUPP_CITY varchar(50), SUPP_PHONE varchar(10));\n",
    "\n",
    "                         CREATE TABLE customer (CUS_ID INT NOT NULL, \n",
    "                         CUS_NAME VARCHAR(20) NULL DEFAULT NULL, CUS_PHONE VARCHAR(10), CUS_CITY varchar(30) ,\n",
    "                         CUS_GENDER CHAR,PRIMARY KEY (CUS_ID));\n",
    "                         \n",
    "                         CREATE TABLE category (CAT_ID INT NOT NULL, CAT_NAME VARCHAR(20) NULL DEFAULT NULL,\n",
    "                         PRIMARY KEY (CAT_ID));\n",
    "                         \n",
    "                         CREATE TABLE product (PRO_ID INT NOT NULL, PRO_NAME VARCHAR(20) NULL DEFAULT NULL, \n",
    "                         PRO_DESC VARCHAR(60) NULL DEFAULT NULL, \n",
    "                         CAT_ID INT NOT NULL,PRIMARY KEY (PRO_ID),FOREIGN KEY (CAT_ID) REFERENCES CATEGORY (CAT_ID));\n",
    "                         \n",
    "                         CREATE TABLE product_details (PROD_ID INT NOT NULL, PRO_ID INT NOT NULL, SUPP_ID INT NOT NULL,\n",
    "                         PROD_PRICE INT NOT NULL,  PRIMARY KEY (PROD_ID),FOREIGN KEY (PRO_ID)\n",
    "                         REFERENCES PRODUCT (PRO_ID), FOREIGN KEY (SUPP_ID) REFERENCES SUPPLIER(SUPP_ID));\n",
    "                         \n",
    "                          CREATE TABLE order (ORD_ID INT NOT NULL, ORD_AMOUNT INT NOT NULL, ORD_DATE DATE,\n",
    "                          CUS_ID INT NOT NULL, PROD_ID INT NOT NULL, PRIMARY KEY (ORD_ID),FOREIGN KEY (CUS_ID)\n",
    "                          REFERENCES CUSTOMER(CUS_ID),FOREIGN KEY (PROD_ID) REFERENCES PRODUCT_DETAILS(PROD_ID));\n",
    "                          \n",
    "                          CREATE TABLE rating (RAT_ID INT NOT NULL, CUS_ID INT NOT NULL, SUPP_ID INT NOT NULL,\n",
    "                          RAT_RATSTARS INT NOT NULL,PRIMARY KEY (RAT_ID),FOREIGN KEY (SUPP_ID)\n",
    "                          REFERENCES SUPPLIER (SUPP_ID),FOREIGN KEY (CUS_ID) REFERENCES CUSTOMER(CUS_ID));\"\"\"\n",
    "# executing the query\n",
    "cursorObject.execute=(table_creating_query)"
   ]
  },
  {
   "cell_type": "markdown",
   "id": "1f653731",
   "metadata": {
    "id": "1f653731"
   },
   "source": [
    "### Q2. Insert the following data in the table created above\n",
    "#### `Note:` If you are getting any error while inserting the data into tables, Kindly close the connection and reconnect\n",
    "\n",
    "#### Table:  supplier\n",
    "| SUPP_ID | SUPP_NAME | SUPP_CITY | SUPP_PHONE |\n",
    "| --- | --- | --- | --- | \n",
    "| 1 | Rajesh Retails | Delhi | 1234567890 |\n",
    "| 2 | Appario Ltd. | Mumbai | 258963147032 | \n",
    "| 3 | Knome products | Bangalore | 9785462315 |\n",
    "| 4 | Bansal Retails | Kochi | 8975463285 |\n",
    "| 5 | Mittal Ltd. | Lucknow | 7898456532 |"
   ]
  },
  {
   "cell_type": "code",
   "execution_count": null,
   "id": "f6dddd07",
   "metadata": {
    "id": "f6dddd07"
   },
   "outputs": [],
   "source": [
    "# insert into \"supplier\" table\n",
    "insert_supplier_details=\"INSERT INTO supplier(SUPP_ID , SUPP_NAME, SUPP_CITY, SUPP_PHONE)\n",
    "                           VALUES(%s,%s,%s,%s)\"\n",
    "\n",
    "  val=[(1,'Rajesh Retails','Delhi','1234567890'),\n",
    "      ( 2,'Appario Ltd.','Mumbai','258963147032'),\n",
    "       (3,'Knome products','Bangalore','9785462315'),\n",
    "        (4,'Bansal Retails','Kochi','8975463285'),\n",
    "        ( 5,'Mittal Ltd.','Lucknow','7898456532')]\n",
    "\n",
    "cursorObject.executemany(insert_supplier_details,val)\n",
    "connection.commit()"
   ]
  },
  {
   "cell_type": "markdown",
   "id": "e8a070a6",
   "metadata": {
    "id": "e8a070a6"
   },
   "source": [
    "#### Table:  customer\n",
    "| CUS_ID | CUS_NAME | SUPP_PHONE | CUS_CITY | CUS_GENDER\n",
    "| --- | --- | --- | --- | --- |\n",
    "| 1 | AAKASH | 9999999999 | DELHI | M |\n",
    "| 2 | AMAN | 9785463215 | NOIDA | M |\n",
    "| 3 | NEHA | 9999999998 | MUMBAI | F |\n",
    "| 4 | MEGHA | 9994562399 | KOLKATA | F |\n",
    "| 5 | PULKIT | 7895999999 | LUCKNOW | M |"
   ]
  },
  {
   "cell_type": "code",
   "execution_count": null,
   "id": "15a4ee87",
   "metadata": {
    "id": "15a4ee87"
   },
   "outputs": [],
   "source": [
    "# insert into \"customer\" table\n",
    "insert_customer_details=\"INSERT INTO customer(CUS_ID,CUS_NAME,SUPP_PHONE,CUS_CITY,CUS_GENDER) VALUES(%s,%s,%s,)\"\n",
    " \n",
    "    val=[(1,'AAKASH','9999999999','DELHI','M'),\n",
    "         (2,'AMAN','9785463215','NOIDA','M'),\n",
    "          (3,'NEHA','9999999998','MUMBAI','F'),\n",
    "         ( 4 ,'MEGHA','9994562399','KOLKATA','F'),\n",
    "          (5,'PULKIT','7895999999','LUCKNOW','M')\n",
    "]\n",
    "    \n",
    "cursorObject.executemany(insert_custome_details,val)\n",
    "connection.commit()"
   ]
  },
  {
   "cell_type": "markdown",
   "id": "b68bfbc2",
   "metadata": {
    "id": "b68bfbc2"
   },
   "source": [
    "#### Table:  category\n",
    "| CAT_ID | CAT_NAME | \n",
    "| --- | --- |  \n",
    "| 1 | BOOKS |\n",
    "| 2 | GAMES |  \n",
    "| 3 | GROCERIES | \n",
    "| 4 | ELECTRONICS | \n",
    "| 5 | CLOTHES | "
   ]
  },
  {
   "cell_type": "code",
   "execution_count": null,
   "id": "05a00abc",
   "metadata": {
    "id": "05a00abc"
   },
   "outputs": [],
   "source": [
    "# insert into \"categoty\" table\n",
    "insert_query= \"INSERT INTO category_details(CAT_ID , CAT_NAME ) VALUES(%s,%s)\"\n",
    "\n",
    "val=[(1 , 'BOOKS' ),\n",
    "     ( 2 , 'GAMES'   ),\n",
    "     (3 , 'GROCERIES') ,\n",
    "    (4 , 'ELECTRONICS') , \n",
    "      (5 , 'CLOTHES' )]\n",
    "\n",
    "cursorObject.executemany(insert_query,val)\n",
    "connection.commit()"
   ]
  },
  {
   "cell_type": "markdown",
   "id": "eb3bc592",
   "metadata": {
    "id": "eb3bc592"
   },
   "source": [
    "#### Table:  product\n",
    "| PRO_ID | PRO_NAME | PRO_DESC | CAT_ID |\n",
    "| --- | --- | --- | --- | \n",
    "| 1 | GTA V | DFJDJFDJFDJFDJFJF | 2 |\n",
    "| 2 | TSHIRT | DFDFJDFJDKFD | 5 | \n",
    "| 3 | ROG LAPTOP | DFNTTNTNTERND | 4 |\n",
    "| 4 | OATS | REURENTBTOTH | 3 |\n",
    "| 5 | HARRY POTTER | NBEMCTHTJTH | 1 |\n"
   ]
  },
  {
   "cell_type": "code",
   "execution_count": null,
   "id": "cdfbdfad",
   "metadata": {
    "id": "cdfbdfad"
   },
   "outputs": [],
   "source": [
    "# insert into \"product\" table\n",
    "insert_query= \"INSERT INTO product(  PRO_ID , PRO_NAME ,PRO_DESC ,CAT_ID  ) VALUES(%s,%s)\"\n",
    "val=[(1 , 'GTA V' , 'DFJDJFDJFDJFDJFJF' , 2 ),\n",
    "     ( 2 , 'TSHIRT' , 'DFDFJDFJDKFD', 5  ),\n",
    "     ( 3 , 'ROG LAPTOP' , 'DFNTTNTNTERND' , 4 ),\n",
    "     (4 , 'OATS' , 'REURENTBTOTH' , 3 ),\n",
    "     ( 5 , 'HARRY POTTER' , 'NBEMCTHTJTH' , 1 )]\n",
    "\n",
    "cursorObject.executemany(insert_query,val)\n",
    "connection.commit()"
   ]
  },
  {
   "cell_type": "markdown",
   "id": "cfa8a47d",
   "metadata": {
    "id": "cfa8a47d"
   },
   "source": [
    "#### Table:  product_details\n",
    "| PROD_ID | PRO_ID | SUPP_ID | PROD_PRICE |\n",
    "| --- | --- | --- | --- | \n",
    "| 1 | 1 | 2 | 1500 |\n",
    "| 2 | 3 | 5 | 30000 | \n",
    "| 3 | 5 | 1 | 3000 |\n",
    "| 4 | 2 | 3 | 2500 |\n",
    "| 5 | 4 | 1 | 1000 |"
   ]
  },
  {
   "cell_type": "code",
   "execution_count": null,
   "id": "c18ea964",
   "metadata": {
    "id": "c18ea964"
   },
   "outputs": [],
   "source": [
    "# insert into \"product_details\" table\n",
    "insert_query= \"INSERT INTO product_details( PROD_ID , PRO_ID , SUPP_ID , PROD_PRICE     ) VALUES(%s,%s)\"\n",
    "\n",
    "val=[(1 , 1 , 2 , 1500 ),\n",
    "     ( 2 , 3 , 5 , 30000 ) ,\n",
    "( 3 , 5 , 1 , 3000 ),\n",
    "( 4 , 2 , 3 , 2500 ),\n",
    "( 5 , 4 , 1 , 1000 )]\n",
    "\n",
    "cursorObject.executemany(insert_query,val)\n",
    "connection.commit()"
   ]
  },
  {
   "cell_type": "markdown",
   "id": "1df49086",
   "metadata": {
    "id": "1df49086"
   },
   "source": [
    "#### Table:  orders\n",
    "| ORD_ID | ORD_AMOUNT | ORD_DATE | CUS_ID | PROD_ID\n",
    "| --- | --- | --- | --- | --- |\n",
    "| 20 | 1500 | 2021-10-12 | 3 | 5 |\n",
    "| 25 | 30500 | 2021-09-16 | 5 | 2 |\n",
    "| 26 | 2000 | 2021-10-05 | 1 | 1 |\n",
    "| 30 | 3500 | 2021-08-16 | 4 | 3 |\n",
    "| 50 | 2000 | 2021-10-06 | 2 | 1 |"
   ]
  },
  {
   "cell_type": "code",
   "execution_count": null,
   "id": "0d97dc92",
   "metadata": {
    "id": "0d97dc92"
   },
   "outputs": [],
   "source": [
    "# insert into \"orders\" table\n",
    "   insert_query= \"INSERT INTO orders(ORD_ID,ORD_AMOUNT,ORD_DATE,CUS_ID,PROD_ID) VALUES(%s,%s)\"\n",
    "val=[(20,1500,\"2021-10-12\",3,5),\n",
    "(25,30500,\"2021-09-16\",5,2),\n",
    "(26,2000,\"2021-10-05\",1,1),\n",
    "(30,3500,\"2021-08-16\",4,3),\n",
    "(50,2000,\"2021-10-06\",2,1)]\n",
    "\n",
    "cursorObject.executemany(insert_query,val)\n",
    "connection.commit()"
   ]
  },
  {
   "cell_type": "markdown",
   "id": "75b8ce5f",
   "metadata": {
    "id": "75b8ce5f"
   },
   "source": [
    "#### Table: rating\n",
    "| RAT_ID | CUS_ID | SUPP_ID | RAT_RATSTARS |\n",
    "| --- | --- | --- | --- | \n",
    "| 1 | 2 | 2 | 4 |\n",
    "| 2 | 3 | 4 | 3 | \n",
    "| 3 | 5 | 1 | 5 |\n",
    "| 4 | 1 | 3 | 2 |\n",
    "| 5 | 4 | 5 | 4 |"
   ]
  },
  {
   "cell_type": "code",
   "execution_count": null,
   "id": "6d5f1e18",
   "metadata": {
    "id": "6d5f1e18"
   },
   "outputs": [],
   "source": [
    "# insert into \"rating\" table\n",
    "\n",
    "insert_query= \"INSERT INTO rating(RAT_ID,CUS_ID,SUPP_ID,RAT_RATSTARS) VALUES(%s,%s)\"\n",
    "\n",
    "val=[(1,2,2,4),\n",
    "    (2,3,4,3),\n",
    "    (3,5,1,5),\n",
    "     (4,1,3,2),\n",
    "    (5,4,5,4)]\n",
    "\n",
    "cursorObject.executemany(insert_query,val)\n",
    "connection.commit()"
   ]
  },
  {
   "cell_type": "markdown",
   "id": "b59361c3",
   "metadata": {
    "id": "b59361c3"
   },
   "source": [
    "### Q3) Display the number of the customer group by their genders who have placed any order of amount greater than or equal to Rs.3000."
   ]
  },
  {
   "cell_type": "code",
   "execution_count": null,
   "id": "fcafaf3c",
   "metadata": {
    "id": "fcafaf3c"
   },
   "outputs": [],
   "source": [
    "select count(*), cust.cus_gender from customer cust\n",
    "\tjoin\n",
    "\torders as ord on ord.cus_id = cust.cus_id \n",
    "\twhere \n",
    "\tord.ord_amount >= 3000 group by cust.cus_gender;"
   ]
  },
  {
   "cell_type": "markdown",
   "id": "e49e04f5",
   "metadata": {
    "id": "e49e04f5"
   },
   "source": [
    "### Q4) Display all the order along with product name ordered by a customer having Customer_Id=2;"
   ]
  },
  {
   "cell_type": "code",
   "execution_count": null,
   "id": "9dcb7883",
   "metadata": {
    "id": "9dcb7883"
   },
   "outputs": [],
   "source": [
    "select cus_name, pro_name, ord_id,ord_date from product as p,\n",
    "\n",
    "supplier_pricing as sp, orders as ord, customer as cus where\n",
    "\n",
    "cus.cus_id = 2 and\n",
    "\n",
    "cus.cus_id = ord.cus_id and\n",
    "\n",
    "p.pro_id = sp.pro_id and\n",
    "\n",
    "ord.pricing_id = sp.pricing_id;"
   ]
  },
  {
   "cell_type": "markdown",
   "id": "3a33398e",
   "metadata": {
    "id": "3a33398e"
   },
   "source": [
    "### Q5) Display the Supplier details who can supply more than one product."
   ]
  },
  {
   "cell_type": "code",
   "execution_count": null,
   "id": "e933b979",
   "metadata": {
    "id": "e933b979"
   },
   "outputs": [],
   "source": [
    "select sup.supp_id, supp_name,supp_city, supp_phone from supplier as sup inner join \n",
    "\n",
    "(select * from supplier_pricing group by supp_id having count(supp_id) > 1) as sp \n",
    "\n",
    "on\n",
    "\n",
    "sup.supp_id = sp.supp_id;"
   ]
  },
  {
   "cell_type": "markdown",
   "id": "5fd319ef",
   "metadata": {
    "id": "5fd319ef"
   },
   "source": [
    "### Q6) Find the category of the product whose order amount is minimum."
   ]
  },
  {
   "cell_type": "code",
   "execution_count": null,
   "id": "06f5cb51",
   "metadata": {
    "id": "06f5cb51"
   },
   "outputs": [],
   "source": [
    "Query6= \"\"\"SELECT CATEGORY .* FROM 'ORDERS'\n",
    "           INNER JOIN PRODUCT_DETAILS ON 'ORDERS'.PROD_ID=PRODUCT_DETAILS.PROD_ID\n",
    "           INNER JOIN PRODUCT ON PRODUCT.PROD_ID=PRODUCT_DETAILS.PROD_ID  \n",
    "           INNER JOIN CATEGORY ON CATEGORY.CAT_ID=PRODUCT.CAT_ID\"\"\"\n",
    "\n",
    "  cursorObject.execute=(Query8)\n",
    "        output=cursorObject.fetchall()  \n",
    "        \n",
    "         output_df=pd.DataFrame(output,columns=['CAT_ID','CAT_NAME'])\n",
    "            output_df"
   ]
  },
  {
   "cell_type": "markdown",
   "id": "107102d4",
   "metadata": {
    "id": "107102d4"
   },
   "source": [
    "### Q7) Display the Id and Name of the Product ordered after “2021-10-05”."
   ]
  },
  {
   "cell_type": "code",
   "execution_count": null,
   "id": "5d3fc7e8",
   "metadata": {
    "id": "5d3fc7e8"
   },
   "outputs": [],
   "source": [
    "Query7=\"\"\"select product.pro_id,product.pro_name\n",
    "         from 'orders' inner join product_details on product_details.pro_id='orders'.pro_id\n",
    "             inner join product on product.pro_id=product_details. pro_id where 'orders'.ord_date>“2021-10-05”;\"\"\"\n",
    "\n",
    "            cursorObject.execute=(Query7)\n",
    "        output=cursorObject.fetchall()"
   ]
  },
  {
   "cell_type": "markdown",
   "id": "bdce7167",
   "metadata": {
    "id": "bdce7167"
   },
   "source": [
    "### Q8) Print the top 3 supplier name and id and rating on the basis of their rating along with the customer name who has given the rating."
   ]
  },
  {
   "cell_type": "code",
   "execution_count": null,
   "id": "fa0cbe44",
   "metadata": {
    "id": "fa0cbe44"
   },
   "outputs": [],
   "source": [
    "Query8= \"\"\"select supplier.supp_id,supplier.supp_name,customer.cus_name,rating.rat_ratstart\n",
    "            from rating inner join supplier on rating.supp_id=supplier.supp_id\n",
    "            inner join customer on rating .cus_id=customer.cus_id order by rating.rat_ratstart desc limit3\"\"\"\n",
    "\n",
    "         cursorObject.execute=(Query8)\n",
    "        output=cursorObject.fetchall()\n",
    "        \n",
    "         output_df=pd.DataFrame(output,columns=['SUPP_ID','SUPP_NAME','CUS_NAME','RAT_RATSTART'])\n",
    "            output_df\n"
   ]
  },
  {
   "cell_type": "markdown",
   "id": "346ec2a1",
   "metadata": {
    "id": "346ec2a1"
   },
   "source": [
    "### Q9) Display customer name and gender whose names start or end with character 'A'."
   ]
  },
  {
   "cell_type": "code",
   "execution_count": null,
   "id": "e571b5fd",
   "metadata": {
    "id": "e571b5fd"
   },
   "outputs": [],
   "source": [
    "Query9=\"\"\"select customer.cus_name,customer.cus_gender\n",
    "          from customer where customer.cus_name like 'A%'or customer where customer.cus_name like '%A'; \"\"\"\n",
    "         \n",
    "        cursorObject.execute=(Query9)\n",
    "        output=cursorObject.fetchall()\n",
    "        \n",
    "         output_df=pd.DataFrame(output,columns=['cus-NAME','cus_GENDER'])\n",
    "            output_df\n"
   ]
  },
  {
   "cell_type": "markdown",
   "id": "d0b01f77",
   "metadata": {
    "id": "d0b01f77"
   },
   "source": [
    "### Q10) Display the total order amount of the male customers."
   ]
  },
  {
   "cell_type": "code",
   "execution_count": null,
   "id": "c3fa76e3",
   "metadata": {
    "id": "c3fa76e3"
   },
   "outputs": [],
   "source": [
    "Query10=\"\"\"select sum('orders.ord-amount') as amount \n",
    "from 'orders'inner join customer on 'orders'.cus_id=customer.cus_id where customer.cus_gender='m';\"\"\"\n",
    "\n",
    "cursorObject.execute=(Query10)\n",
    "output=cursorObject.fetchall()\n",
    "\n",
    "print(\"Amount is\",output);"
   ]
  },
  {
   "cell_type": "markdown",
   "id": "ff8a9971",
   "metadata": {
    "id": "ff8a9971"
   },
   "source": [
    "### Q11) Display all the Customers left outer join with  the orders"
   ]
  },
  {
   "cell_type": "code",
   "execution_count": null,
   "id": "a340c6d6",
   "metadata": {
    "id": "a340c6d6"
   },
   "outputs": [],
   "source": [
    "Query11= \"\"\"Select * from customer  left outer join with the 'orders' on customer. cus_id='oders'.cus_id\"\"\"\n",
    "\n",
    "cursorObject.execute=(Query11)\n",
    "output=cursorObject.fetchall()\n",
    "\n",
    "output_df=pd.DataFrame(output,columns=['CUS_ID','CUS_NAME','SUPP_PHONE','CUS_CITY','CUS_GENDER','ORD_ID' , 'ORD_AMOUNT' , 'ORD_DATE' , 'CUS_ID' , 'PROD_ID'])\n",
    "output_df\n"
   ]
  },
  {
   "cell_type": "code",
   "execution_count": null,
   "id": "c8fe5596",
   "metadata": {},
   "outputs": [],
   "source": [
    "## close connection\n",
    "connection.close()"
   ]
  },
  {
   "cell_type": "markdown",
   "id": "0a72afe3",
   "metadata": {
    "id": "0a72afe3"
   },
   "source": [
    "**NOTE:** Always close an open connection once you are done with the database operations"
   ]
  },
  {
   "cell_type": "markdown",
   "id": "8c88f479",
   "metadata": {
    "id": "8c88f479"
   },
   "source": [
    "## Happy Learning:)"
   ]
  },
  {
   "cell_type": "code",
   "execution_count": null,
   "id": "8bd355e2",
   "metadata": {},
   "outputs": [],
   "source": []
  }
 ],
 "metadata": {
  "colab": {
   "name": "Lab Session  -  E-Commerce.ipynb",
   "provenance": []
  },
  "kernelspec": {
   "display_name": "Python 3 (ipykernel)",
   "language": "python",
   "name": "python3"
  },
  "language_info": {
   "codemirror_mode": {
    "name": "ipython",
    "version": 3
   },
   "file_extension": ".py",
   "mimetype": "text/x-python",
   "name": "python",
   "nbconvert_exporter": "python",
   "pygments_lexer": "ipython3",
   "version": "3.11.5"
  }
 },
 "nbformat": 4,
 "nbformat_minor": 5
}
